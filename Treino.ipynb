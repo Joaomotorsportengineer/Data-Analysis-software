{
 "cells": [
  {
   "cell_type": "markdown",
   "metadata": {},
   "source": [
    "# Training and learning\n"
   ]
  },
  {
   "cell_type": "markdown",
   "metadata": {
    "vscode": {
     "languageId": "plaintext"
    }
   },
   "source": [
    "## Tratamento de dados da planilha Excel"
   ]
  },
  {
   "cell_type": "code",
   "execution_count": null,
   "metadata": {},
   "outputs": [
    {
     "name": "stdout",
     "output_type": "stream",
     "text": [
      "Arquivo 'pistas.xlsx' não encontrado. Verifique o caminho do arquivo.\n"
     ]
    },
    {
     "ename": "NameError",
     "evalue": "name 'df' is not defined",
     "output_type": "error",
     "traceback": [
      "\u001b[1;31m---------------------------------------------------------------------------\u001b[0m",
      "\u001b[1;31mNameError\u001b[0m                                 Traceback (most recent call last)",
      "Cell \u001b[1;32mIn[2], line 20\u001b[0m\n\u001b[0;32m     17\u001b[0m     exit()\n\u001b[0;32m     19\u001b[0m \u001b[38;5;66;03m# Exibir os primeiros registros para confirmação\u001b[39;00m\n\u001b[1;32m---> 20\u001b[0m \u001b[38;5;28mprint\u001b[39m(\u001b[43mdf\u001b[49m\u001b[38;5;241m.\u001b[39mhead())\n\u001b[0;32m     22\u001b[0m \u001b[38;5;66;03m# Plotando o gráfico 3D\u001b[39;00m\n\u001b[0;32m     23\u001b[0m fig \u001b[38;5;241m=\u001b[39m plt\u001b[38;5;241m.\u001b[39mfigure(figsize\u001b[38;5;241m=\u001b[39m(\u001b[38;5;241m10\u001b[39m, \u001b[38;5;241m7\u001b[39m))\n",
      "\u001b[1;31mNameError\u001b[0m: name 'df' is not defined"
     ]
    },
    {
     "ename": "",
     "evalue": "",
     "output_type": "error",
     "traceback": [
      "\u001b[1;31mThe Kernel crashed while executing code in the current cell or a previous cell. \n",
      "\u001b[1;31mPlease review the code in the cell(s) to identify a possible cause of the failure. \n",
      "\u001b[1;31mClick <a href='https://aka.ms/vscodeJupyterKernelCrash'>here</a> for more info. \n",
      "\u001b[1;31mView Jupyter <a href='command:jupyter.viewOutput'>log</a> for further details."
     ]
    }
   ],
   "source": [
    "import pandas as pd\n",
    "import matplotlib.pyplot as plt\n",
    "from mpl_toolkits.mplot3d import Axes3D\n",
    "\n",
    "# Carregar dados do Excel (substitua 'pistas.xlsx' pelo nome correto do arquivo)\n",
    "file_path = 'pistas.xlsx'  # Caminho para o arquivo Excel\n",
    "sheet_name = 'Plan2'  # Nome da planilha a ser carregada\n",
    "\n",
    "# Ler os dados do Excel\n",
    "try:\n",
    "    df = pd.read_excel(file_path, sheet_name=sheet_name, usecols=['Nome', 'Longitude', 'Latitude', 'Altitude'])\n",
    "except FileNotFoundError:\n",
    "    print(f\"Arquivo '{file_path}' não encontrado. Verifique o caminho do arquivo.\")\n",
    "    exit()\n",
    "except ValueError:\n",
    "    print(\"Verifique se as colunas 'Nome', 'Longitude', 'Latitude' e 'Altitude' existem na planilha.\")\n",
    "    exit()\n",
    "\n",
    "# Exibir os primeiros registros para confirmação\n",
    "print(df.head())\n",
    "\n",
    "# Plotando o gráfico 3D\n",
    "fig = plt.figure(figsize=(10, 7))\n",
    "ax = fig.add_subplot(111, projection='3d')\n",
    "ax.plot(df['Longitude'], df['Latitude'], df['Altitude'], color='blue', linewidth=2)\n",
    "\n",
    "# Configurações do gráfico\n",
    "ax.set_xlabel('Longitude')\n",
    "ax.set_ylabel('Latitude')\n",
    "ax.set_zlabel('Altitude')\n",
    "ax.set_title('Traçado da Pista')\n",
    "\n",
    "plt.show()\n"
   ]
  }
 ],
 "metadata": {
  "kernelspec": {
   "display_name": "Python 3",
   "language": "python",
   "name": "python3"
  },
  "language_info": {
   "codemirror_mode": {
    "name": "ipython",
    "version": 3
   },
   "file_extension": ".py",
   "mimetype": "text/x-python",
   "name": "python",
   "nbconvert_exporter": "python",
   "pygments_lexer": "ipython3",
   "version": "3.12.2"
  }
 },
 "nbformat": 4,
 "nbformat_minor": 2
}
